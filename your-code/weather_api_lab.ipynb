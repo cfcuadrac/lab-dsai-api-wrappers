{
 "cells": [
  {
   "cell_type": "markdown",
   "id": "bd0a3905-b346-43d5-9791-d3869299eb9d",
   "metadata": {},
   "source": [
    "# API wrappers"
   ]
  },
  {
   "cell_type": "markdown",
   "id": "327b4075-5374-4ecf-b8c5-c106d20d80e1",
   "metadata": {},
   "source": [
    "The OpenWeatherMap offers REST endpoints for querying current weather, forecasts, historical data, etc. However, accessing this data directly via the REST API requires handling multiple API calls, query parameters, and response parsing. The pyowm library abstracts these complexities and provides useful built-in functionalities."
   ]
  },
  {
   "cell_type": "markdown",
   "id": "1d731d49-fd79-44c8-8f72-68194c99fec0",
   "metadata": {},
   "source": [
    "After signing in to OpenWeatherMap retrieve your api key at https://home.openweathermap.org/api_keys\n",
    "\n",
    "You will also need to install the pyowm package: pip install pyowm "
   ]
  },
  {
   "cell_type": "code",
   "execution_count": 33,
   "id": "63b327b1-338b-4b14-a5b5-1bd8741da64b",
   "metadata": {},
   "outputs": [],
   "source": [
    "import requests\n",
    "import pyowm\n",
    "import json\n",
    "\n",
    "api_key = '8544888c42a4b56a401863d10dc5d872'"
   ]
  },
  {
   "cell_type": "markdown",
   "id": "f73d3029-c6a6-43b9-81a9-0e81c13bdf09",
   "metadata": {},
   "source": [
    "## use case 1: managing API keys\n",
    "\n",
    "In a raw rest API call you always have to manage credentials in each individual call. Wrappers usually store and manage the authentication for you"
   ]
  },
  {
   "cell_type": "code",
   "execution_count": 9,
   "id": "afbcdf71-845e-4aae-b8cc-8963745f7d4b",
   "metadata": {
    "collapsed": true,
    "jupyter": {
     "outputs_hidden": true
    },
    "scrolled": true
   },
   "outputs": [
    {
     "data": {
      "text/plain": [
       "{'coord': {'lon': -0.1257, 'lat': 51.5085},\n",
       " 'weather': [{'id': 802,\n",
       "   'main': 'Clouds',\n",
       "   'description': 'scattered clouds',\n",
       "   'icon': '03d'}],\n",
       " 'base': 'stations',\n",
       " 'main': {'temp': 292.37,\n",
       "  'feels_like': 292.59,\n",
       "  'temp_min': 291.49,\n",
       "  'temp_max': 293.22,\n",
       "  'pressure': 995,\n",
       "  'humidity': 86,\n",
       "  'sea_level': 995,\n",
       "  'grnd_level': 991},\n",
       " 'visibility': 10000,\n",
       " 'wind': {'speed': 8.23, 'deg': 220},\n",
       " 'clouds': {'all': 40},\n",
       " 'dt': 1756892262,\n",
       " 'sys': {'type': 2,\n",
       "  'id': 2075535,\n",
       "  'country': 'GB',\n",
       "  'sunrise': 1756876593,\n",
       "  'sunset': 1756925015},\n",
       " 'timezone': 3600,\n",
       " 'id': 2643743,\n",
       " 'name': 'London',\n",
       " 'cod': 200}"
      ]
     },
     "execution_count": 9,
     "metadata": {},
     "output_type": "execute_result"
    }
   ],
   "source": [
    "#You can get current weather data by making a GET request to an endpoint like:\n",
    "\n",
    "params = {\n",
    "    'appid' : api_key\n",
    "}\n",
    "\n",
    "response = requests.get('https://api.openweathermap.org/data/2.5/weather?q=London', params = params)\n",
    "\n",
    "json.loads(response.text)\n",
    "\n",
    "#but for every call you make using GET from now on you do need to add the parameters, since the raw API does not manage authentication for you"
   ]
  },
  {
   "cell_type": "markdown",
   "id": "b82c585b-fd83-4f59-9d46-14225f3e5037",
   "metadata": {},
   "source": [
    "Most wrappers (pyowm included) include some way of initializing a session with the authentication key that you then don't need to type again.\n",
    "\n",
    "Initialize pyowm with the default configuration. Thenopen the weather manager\n",
    "\n",
    "Check out a snippet here: https://pyowm.readthedocs.io/en/latest/v3/code-recipes.html#weather_data"
   ]
  },
  {
   "cell_type": "code",
   "execution_count": 10,
   "id": "f376d466-5a69-4a47-b35d-1870cbef61ff",
   "metadata": {},
   "outputs": [],
   "source": [
    "from pyowm import OWM"
   ]
  },
  {
   "cell_type": "code",
   "execution_count": 13,
   "id": "759dfd4b-d1b9-4fcb-90b5-a5a5f5a70c3e",
   "metadata": {},
   "outputs": [
    {
     "name": "stdout",
     "output_type": "stream",
     "text": [
      "What's it like? broken clouds\n",
      "How warm? 18.2 °C\n",
      "How wet? 88 % humidity\n"
     ]
    }
   ],
   "source": [
    "from pyowm.owm import OWM\n",
    "owm = OWM('ef95e5282de8444d2c5847ef8647d575')\n",
    "mgr = owm.weather_manager()\n",
    "\n",
    "obs = mgr.weather_at_place(\"London,GB\")   # city, country\n",
    "w = obs.weather\n",
    "\n",
    "print(\"What's it like?\", w.detailed_status)              # e.g., \"light rain\"\n",
    "print(\"How warm?\", w.temperature('celsius')[\"temp\"], \"°C\")\n",
    "print(\"How wet?\", w.humidity, \"% humidity\")"
   ]
  },
  {
   "cell_type": "markdown",
   "id": "840060e4-d3de-4b96-bb03-5bce02003f1d",
   "metadata": {},
   "source": [
    "## use case 2: Simplified calls\n",
    "\n",
    "With the raw REST API, you'd have to build a URL manually, send the request, and parse the JSON response to get the current weather."
   ]
  },
  {
   "cell_type": "code",
   "execution_count": 18,
   "id": "a2aa8395-0bed-4098-8881-0ffe93541b1f",
   "metadata": {},
   "outputs": [
    {
     "name": "stdout",
     "output_type": "stream",
     "text": [
      "Temperature: 293.7°C, Humidity: 80%, Wind Speed: 6.69 m/s\n"
     ]
    }
   ],
   "source": [
    "city = 'London'\n",
    "url = f'http://api.openweathermap.org/data/2.5/weather?q={city}'\n",
    "\n",
    "response = requests.get(url,params= params)\n",
    "data = response.json()\n",
    "temperature = data['main']['temp']\n",
    "humidity = data['main']['humidity']\n",
    "wind_speed = data['wind']['speed']\n",
    "\n",
    "print(f\"Temperature: {temperature}°C, Humidity: {humidity}%, Wind Speed: {wind_speed} m/s\")"
   ]
  },
  {
   "cell_type": "markdown",
   "id": "df5bc6df-bfb2-416d-8d06-3961d3a12234",
   "metadata": {},
   "source": [
    "Get the equivalent call as above for the city of London using the pyowm package"
   ]
  },
  {
   "cell_type": "code",
   "execution_count": 37,
   "id": "d1986770-4628-480b-b587-9ff5c42d301c",
   "metadata": {},
   "outputs": [
    {
     "name": "stdout",
     "output_type": "stream",
     "text": [
      "Temperature: 20.53°C, Humidity: 79%, Wind Speed: 7.6 m/s\n"
     ]
    }
   ],
   "source": [
    "owm = OWM(api_key)\n",
    "mgr = owm.weather_manager()\n",
    "\n",
    "observation = mgr.weather_at_place(\"London,GB\")\n",
    "w = observation.weather\n",
    "\n",
    "# choose units: 'celsius', 'fahrenheit', or 'kelvin'\n",
    "temperature = w.temperature('celsius')['temp']\n",
    "humidity = w.humidity\n",
    "wind_speed = w.wind().get('speed', 0)\n",
    "\n",
    "print(f\"Temperature: {temperature}°C, Humidity: {humidity}%, Wind Speed: {wind_speed} m/s\")"
   ]
  },
  {
   "cell_type": "markdown",
   "id": "7e7b93b2-c383-4e49-8fce-a0923ac59031",
   "metadata": {},
   "source": [
    "## use case 3: Combining and chaining calls\n",
    "\n",
    "Wrappers often offer methods that make multiple calls to batch requests that make sense to batch. And often they offer methods that make sequences of calls that each returns information necessary to make the next call."
   ]
  },
  {
   "cell_type": "markdown",
   "id": "8f4a6b6c-f397-48ce-a3ef-f88e1fb95eb9",
   "metadata": {},
   "source": [
    "For example, to get a weather forecast for a specific city using the raw API you need to first geocode the city to get its latitude and longitude:"
   ]
  },
  {
   "cell_type": "code",
   "execution_count": 31,
   "id": "d182cf31-80f8-4b61-8de0-897d2d6479d7",
   "metadata": {},
   "outputs": [],
   "source": [
    "city = 'New York'\n",
    "geocode_url = f'http://api.openweathermap.org/data/2.5/weather?q={city}'\n",
    "geocode_response = requests.get(geocode_url,params=params).json()\n",
    "\n",
    "lat = geocode_response['coord']['lat']\n",
    "lon = geocode_response['coord']['lon']"
   ]
  },
  {
   "cell_type": "markdown",
   "id": "547c5deb-1070-4b72-b035-32ea5a615eda",
   "metadata": {},
   "source": [
    "Then, request the weather forecast for that latitude/longitude:"
   ]
  },
  {
   "cell_type": "code",
   "execution_count": 30,
   "id": "03737eff-cbc6-412f-b6a1-03e28b39b1e4",
   "metadata": {},
   "outputs": [
    {
     "name": "stdout",
     "output_type": "stream",
     "text": [
      "Time: 2025-09-03 15:00:00, Temp: 294.52°C\n",
      "Time: 2025-09-03 18:00:00, Temp: 295.47°C\n",
      "Time: 2025-09-03 21:00:00, Temp: 296.3°C\n",
      "Time: 2025-09-04 00:00:00, Temp: 293.85°C\n",
      "Time: 2025-09-04 03:00:00, Temp: 291.49°C\n",
      "Time: 2025-09-04 06:00:00, Temp: 290.27°C\n",
      "Time: 2025-09-04 09:00:00, Temp: 292.23°C\n",
      "Time: 2025-09-04 12:00:00, Temp: 293.04°C\n",
      "Time: 2025-09-04 15:00:00, Temp: 296.63°C\n",
      "Time: 2025-09-04 18:00:00, Temp: 298.16°C\n",
      "Time: 2025-09-04 21:00:00, Temp: 297.04°C\n",
      "Time: 2025-09-05 00:00:00, Temp: 295.74°C\n",
      "Time: 2025-09-05 03:00:00, Temp: 295.54°C\n",
      "Time: 2025-09-05 06:00:00, Temp: 293.38°C\n",
      "Time: 2025-09-05 09:00:00, Temp: 293.57°C\n",
      "Time: 2025-09-05 12:00:00, Temp: 293.96°C\n",
      "Time: 2025-09-05 15:00:00, Temp: 297.42°C\n",
      "Time: 2025-09-05 18:00:00, Temp: 299.99°C\n",
      "Time: 2025-09-05 21:00:00, Temp: 300.87°C\n",
      "Time: 2025-09-06 00:00:00, Temp: 299.19°C\n",
      "Time: 2025-09-06 03:00:00, Temp: 297.69°C\n",
      "Time: 2025-09-06 06:00:00, Temp: 297.4°C\n",
      "Time: 2025-09-06 09:00:00, Temp: 296.43°C\n",
      "Time: 2025-09-06 12:00:00, Temp: 296.74°C\n",
      "Time: 2025-09-06 15:00:00, Temp: 298.87°C\n",
      "Time: 2025-09-06 18:00:00, Temp: 301.16°C\n",
      "Time: 2025-09-06 21:00:00, Temp: 297.81°C\n",
      "Time: 2025-09-07 00:00:00, Temp: 295.55°C\n",
      "Time: 2025-09-07 03:00:00, Temp: 293.66°C\n",
      "Time: 2025-09-07 06:00:00, Temp: 292.07°C\n",
      "Time: 2025-09-07 09:00:00, Temp: 291.79°C\n",
      "Time: 2025-09-07 12:00:00, Temp: 292.55°C\n",
      "Time: 2025-09-07 15:00:00, Temp: 296.59°C\n",
      "Time: 2025-09-07 18:00:00, Temp: 298.11°C\n",
      "Time: 2025-09-07 21:00:00, Temp: 297.21°C\n",
      "Time: 2025-09-08 00:00:00, Temp: 295.49°C\n",
      "Time: 2025-09-08 03:00:00, Temp: 294.79°C\n",
      "Time: 2025-09-08 06:00:00, Temp: 294.22°C\n",
      "Time: 2025-09-08 09:00:00, Temp: 293.44°C\n",
      "Time: 2025-09-08 12:00:00, Temp: 292.01°C\n"
     ]
    }
   ],
   "source": [
    "forecast_url = f'http://api.openweathermap.org/data/2.5/forecast?lat={lat}&lon={lon}'\n",
    "forecast_response = requests.get(forecast_url, params=params).json()\n",
    "\n",
    "for entry in forecast_response['list']:\n",
    "    print(f\"Time: {entry['dt_txt']}, Temp: {entry['main']['temp']}°C\")"
   ]
  },
  {
   "cell_type": "markdown",
   "id": "f75ab558-7500-40fa-a4aa-93a18053059a",
   "metadata": {},
   "source": [
    "Two calls: one for geocoding, one for forecasts.\n",
    "But with pyowm, because this is a common operation, there is a method that handles the geocoding internally and then fetches the weather forecast in one step.\n",
    "\n",
    "Get the above forecast in a single call using pyowm.\n",
    "\n",
    "Hint: search for \"forecast_at_place\" in the code recipies of the documentation"
   ]
  },
  {
   "cell_type": "code",
   "execution_count": 47,
   "id": "11e3c1a8-260d-467c-8f47-793fd62a239b",
   "metadata": {},
   "outputs": [
    {
     "ename": "TypeError",
     "evalue": "WeatherManager.forecast_at_place() missing 1 required positional argument: 'interval'",
     "output_type": "error",
     "traceback": [
      "\u001b[0;31m---------------------------------------------------------------------------\u001b[0m",
      "\u001b[0;31mTypeError\u001b[0m                                 Traceback (most recent call last)",
      "Cell \u001b[0;32mIn[47], line 3\u001b[0m\n\u001b[1;32m      1\u001b[0m owm \u001b[38;5;241m=\u001b[39m OWM(\u001b[38;5;124m\"\u001b[39m\u001b[38;5;124ma14cdbc91a8575c20f4ddfdfd8e2bc66\u001b[39m\u001b[38;5;124m\"\u001b[39m)\n\u001b[1;32m      2\u001b[0m mgr \u001b[38;5;241m=\u001b[39m owm\u001b[38;5;241m.\u001b[39mweather_manager()\n\u001b[0;32m----> 3\u001b[0m daily_forecast \u001b[38;5;241m=\u001b[39m mgr\u001b[38;5;241m.\u001b[39mforecast_at_place(\u001b[38;5;124m'\u001b[39m\u001b[38;5;124mBerlin,DE\u001b[39m\u001b[38;5;124m'\u001b[39m)\u001b[38;5;241m.\u001b[39mforecast\n\u001b[1;32m      4\u001b[0m three_h_forecast \u001b[38;5;241m=\u001b[39m mgr\u001b[38;5;241m.\u001b[39mforecast_at_place(\u001b[38;5;124m'\u001b[39m\u001b[38;5;124mBerlin,DE\u001b[39m\u001b[38;5;124m'\u001b[39m, \u001b[38;5;124m'\u001b[39m\u001b[38;5;124m3h\u001b[39m\u001b[38;5;124m'\u001b[39m)\u001b[38;5;241m.\u001b[39mforecast\n",
      "\u001b[0;31mTypeError\u001b[0m: WeatherManager.forecast_at_place() missing 1 required positional argument: 'interval'"
     ]
    }
   ],
   "source": [
    "owm = OWM(\"a14cdbc91a8575c20f4ddfdfd8e2bc66\")\n",
    "mgr = owm.weather_manager()\n",
    "#daily_forecast = mgr.forecast_at_place('Berlin,DE', 'daily').forecast\n",
    "three_h_forecast = mgr.forecast_at_place('Berlin,DE', '3h').forecast"
   ]
  },
  {
   "cell_type": "code",
   "execution_count": 51,
   "id": "53310517-4e5f-43f5-8fb4-02cffb4631bc",
   "metadata": {},
   "outputs": [],
   "source": [
    "from pyowm.owm import OWM\n",
    "owm = OWM('a14cdbc91a8575c20f4ddfdfd8e2bc66')\n",
    "mgr = owm.weather_manager()\n",
    "#daily_forecast = mgr.forecast_at_place('Berlin,DE', 'daily').forecast\n",
    "three_h_forecast = mgr.forecast_at_place('Berlin,DE', '3h').forecast\n"
   ]
  },
  {
   "cell_type": "code",
   "execution_count": 54,
   "id": "688cf844-3124-475a-88d5-6151a9d9c86d",
   "metadata": {},
   "outputs": [
    {
     "data": {
      "text/plain": [
       "<pyowm.weatherapi30.forecast.Forecast - reception_time=2025-09-03 14:46:54+00:00, interval=3h>"
      ]
     },
     "execution_count": 54,
     "metadata": {},
     "output_type": "execute_result"
    }
   ],
   "source": [
    "three_h_forecast"
   ]
  },
  {
   "cell_type": "markdown",
   "id": "7ab2b0cc-0d16-4da5-be3e-b8466faecca3",
   "metadata": {},
   "source": [
    "## use case 4: Convenience methods\n",
    "\n",
    "Wrappers often offer built-in methods to handle common kinds of tasks related to the APIs, reducing the need for manual calculations.\n",
    "\n",
    "for example converting units (e.g., temperature from Celsius to Fahrenheit) or working with more complex data requires manual conversion when using the raw API."
   ]
  },
  {
   "cell_type": "code",
   "execution_count": 55,
   "id": "c8e68dad-a503-49cf-9c1e-72e9ed1fab3d",
   "metadata": {},
   "outputs": [
    {
     "name": "stdout",
     "output_type": "stream",
     "text": [
      "Temperature in Celsius: 293.82°C, Fahrenheit: 560.876°F\n"
     ]
    }
   ],
   "source": [
    "city = 'London'\n",
    "url = f'http://api.openweathermap.org/data/2.5/weather?q={city}&appid={api_key}'\n",
    "\n",
    "response = requests.get(url)\n",
    "data = response.json()\n",
    "temperature_celsius = data['main']['temp']\n",
    "temperature_fahrenheit = (temperature_celsius * 9/5) + 32\n",
    "\n",
    "print(f\"Temperature in Celsius: {temperature_celsius}°C, Fahrenheit: {temperature_fahrenheit}°F\")"
   ]
  },
  {
   "cell_type": "markdown",
   "id": "9b05658c-e9cb-491d-8554-ab4d6dd56e1d",
   "metadata": {},
   "source": [
    "But the pyowm wrapper offers built-in methods to handle these kinds of tasks, reducing the need for manual calculations.\n",
    "Get the temperature both in Celcius and Farenheit using pyowm. Navigate the code recipes to figure out the inbuilt methods for this."
   ]
  },
  {
   "cell_type": "code",
   "execution_count": 56,
   "id": "4695bb83-bc35-4c1b-b390-5ea2027984ef",
   "metadata": {},
   "outputs": [
    {
     "name": "stdout",
     "output_type": "stream",
     "text": [
      "Temperature in Celsius: 20.69°C, Fahrenheit: 69.24°F\n"
     ]
    }
   ],
   "source": [
    "owm = OWM('a14cdbc91a8575c20f4ddfdfd8e2bc66')\n",
    "mgr = owm.weather_manager()\n",
    "\n",
    "w = mgr.weather_at_place(\"London,GB\").weather   # Observation → Weather\n",
    "\n",
    "# pyowm converts units for you:\n",
    "temp_c = w.temperature('celsius')['temp']       # e.g. 17.3\n",
    "temp_f = w.temperature('fahrenheit')['temp']    # e.g. 63.1\n",
    "\n",
    "print(f\"Temperature in Celsius: {temp_c}°C, Fahrenheit: {temp_f}°F\")"
   ]
  },
  {
   "cell_type": "code",
   "execution_count": null,
   "id": "e5417473-cdd6-4489-b1f7-1dda25dbae5f",
   "metadata": {},
   "outputs": [],
   "source": []
  }
 ],
 "metadata": {
  "kernelspec": {
   "display_name": "Python 3 (ipykernel)",
   "language": "python",
   "name": "python3"
  },
  "language_info": {
   "codemirror_mode": {
    "name": "ipython",
    "version": 3
   },
   "file_extension": ".py",
   "mimetype": "text/x-python",
   "name": "python",
   "nbconvert_exporter": "python",
   "pygments_lexer": "ipython3",
   "version": "3.13.5"
  }
 },
 "nbformat": 4,
 "nbformat_minor": 5
}
